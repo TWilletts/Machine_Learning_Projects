{
  "nbformat": 4,
  "nbformat_minor": 0,
  "metadata": {
    "kernelspec": {
      "display_name": "Python 3",
      "language": "python",
      "name": "python3"
    },
    "language_info": {
      "codemirror_mode": {
        "name": "ipython",
        "version": 3
      },
      "file_extension": ".py",
      "mimetype": "text/x-python",
      "name": "python",
      "nbconvert_exporter": "python",
      "pygments_lexer": "ipython3",
      "version": "3.7.6"
    },
    "colab": {
      "name": "Model_1_Families.ipynb",
      "provenance": [],
      "collapsed_sections": [],
      "include_colab_link": true
    },
    "accelerator": "GPU"
  },
  "cells": [
    {
      "cell_type": "markdown",
      "metadata": {
        "id": "view-in-github",
        "colab_type": "text"
      },
      "source": [
        "<a href=\"https://colab.research.google.com/github/TWilletts/Machine_Learning_Projects/blob/main/VR_Deep_Learning_Family_Classification.ipynb\" target=\"_parent\"><img src=\"https://colab.research.google.com/assets/colab-badge.svg\" alt=\"Open In Colab\"/></a>"
      ]
    },
    {
      "cell_type": "code",
      "metadata": {
        "id": "dv2Splpp3yY1"
      },
      "source": [
        "import numpy as np\n",
        "import pandas as pd\n",
        "from numpy import genfromtxt\n",
        "import tensorflow as tf\n",
        "from tensorflow import keras\n",
        "import matplotlib.pyplot as plt\n",
        "import keras.backend as K\n",
        "from keras.callbacks import Callback\n",
        "from tensorflow.keras import layers\n",
        "import os\n",
        "import glob\n",
        "from sklearn.preprocessing import MinMaxScaler\n",
        "from keras.models import Sequential\n",
        "from keras.layers import Dropout, Dense\n",
        "from sklearn.model_selection import train_test_split"
      ],
      "execution_count": 1,
      "outputs": []
    },
    {
      "cell_type": "code",
      "metadata": {
        "scrolled": true,
        "colab": {
          "base_uri": "https://localhost:8080/"
        },
        "id": "QIvvgYOj3yY2",
        "outputId": "bad96fb9-2661-48e3-c0be-5203268e0d7f"
      },
      "source": [
        "# the path to your csv file directory\n",
        "mycsvdir = r\"/content\"\n",
        "\n",
        "# get all the csv files in that directory (assuming they have the extension .csv)\n",
        "csvfiles = glob.glob(os.path.join(mycsvdir, '*.csv'))\n",
        "\n",
        "# loop through the files and read them in with pandas\n",
        "data_0 = pd.read_csv(csvfiles[0])\n",
        "data_1 = pd.read_csv(csvfiles[1])\n",
        "data_2 = pd.read_csv(csvfiles[2])\n",
        "data_3 = pd.read_csv(csvfiles[3])\n",
        "data_4 = pd.read_csv(csvfiles[4])\n",
        "data_5 = pd.read_csv(csvfiles[5])\n",
        "data_6 = pd.read_csv(csvfiles[6])\n",
        "data_7 = pd.read_csv(csvfiles[7])\n",
        "csvfiles\n"
      ],
      "execution_count": 2,
      "outputs": [
        {
          "output_type": "execute_result",
          "data": {
            "text/plain": [
              "['/content/7483655.csv',\n",
              " '/content/9330209.csv',\n",
              " '/content/2714588.csv',\n",
              " '/content/74208.csv',\n",
              " '/content/1116550.csv',\n",
              " '/content/5656221.csv',\n",
              " '/content/5868825.csv',\n",
              " '/content/2819504.csv']"
            ]
          },
          "metadata": {
            "tags": []
          },
          "execution_count": 2
        }
      ]
    },
    {
      "cell_type": "code",
      "metadata": {
        "id": "3AeynpwRmPCB"
      },
      "source": [
        "francis_list = []\n",
        "willetts_list = []\n",
        "\n",
        "francis_list.append(data_4)\n",
        "francis_list.append(data_0)\n",
        "francis_list.append(data_3)\n",
        "francis_list.append(data_5)\n",
        "willetts_list.append(data_1)\n",
        "willetts_list.append(data_2)\n",
        "willetts_list.append(data_6)\n",
        "willetts_list.append(data_7)"
      ],
      "execution_count": 3,
      "outputs": []
    },
    {
      "cell_type": "code",
      "metadata": {
        "id": "7cytQjb9gW5O"
      },
      "source": [
        "#data_list = []\n",
        "#data_list.append(data_0)\n",
        "#data_list.append(data_1)\n",
        "#data_list.append(data_2)\n",
        "#data_list.append(data_3)\n",
        "#data_list.append(data_4)\n",
        "#data_list.append(data_5)\n",
        "#data_list.append(data_6)\n",
        "#data_list.append(data_7)\n",
        "#data_list"
      ],
      "execution_count": 4,
      "outputs": []
    },
    {
      "cell_type": "code",
      "metadata": {
        "colab": {
          "base_uri": "https://localhost:8080/"
        },
        "id": "0k_J_n5pkmTL",
        "outputId": "b57e8ccb-e1e5-4a62-89d1-b07665818a60"
      },
      "source": [
        "length_val = 4\n",
        "#for i in data_0, data_1, data_2, data_3, data_4, data_5, data_6, data_7:\n",
        "for i in range(length_val):\n",
        "    francis_list[i]['Family'] = 0\n",
        "for i in range(length_val):\n",
        "    willetts_list[i]['Family'] = 1\n",
        "print(francis_list[3])"
      ],
      "execution_count": 5,
      "outputs": [
        {
          "output_type": "stream",
          "text": [
            "      isClockwise     LeftX     LeftY  ...    MainRZ    MainRW  Family\n",
            "0               1 -0.712338  1.810808  ... -0.048716  0.986993       0\n",
            "1               1 -0.712187  1.810766  ... -0.048109  0.987179       0\n",
            "2               1 -0.712004  1.810729  ... -0.047842  0.987341       0\n",
            "3               1 -0.711762  1.810658  ... -0.047835  0.987389       0\n",
            "4               1 -0.711513  1.810567  ... -0.047759  0.987447       0\n",
            "...           ...       ...       ...  ...       ...       ...     ...\n",
            "5995            0 -0.200800  1.856674  ...  0.127586  0.985828       0\n",
            "5996            0 -0.202871  1.887827  ...  0.125458  0.986069       0\n",
            "5997            0 -0.206768  1.918116  ...  0.124451  0.986291       0\n",
            "5998            0 -0.212346  1.948113  ...  0.121451  0.986838       0\n",
            "5999            0 -0.219528  1.977300  ...  0.119370  0.987284       0\n",
            "\n",
            "[6000 rows x 23 columns]\n"
          ],
          "name": "stdout"
        }
      ]
    },
    {
      "cell_type": "code",
      "metadata": {
        "id": "xXmI-PvP3yY2",
        "colab": {
          "base_uri": "https://localhost:8080/"
        },
        "outputId": "9446bb4a-f2e5-4471-a3ba-2b32eb485352"
      },
      "source": [
        "training_array_train = []\n",
        "answer_array_train = []\n",
        "\n",
        "for i in francis_list[0], francis_list[1], francis_list[3], willetts_list[0], willetts_list[1], willetts_list[3]:\n",
        "    clockwise_0, clockwise_1 = [x for _,x in i.groupby('isClockwise')]\n",
        "    clockwise_0_cat = clockwise_0.copy()\n",
        "    clockwise_0_cat.drop(['Family'], axis='columns', inplace=True)\n",
        "\n",
        "    clockwise_1_cat = clockwise_1.copy()\n",
        "    clockwise_1_cat.drop(['Family'], axis='columns', inplace=True)\n",
        "\n",
        "    clockwise_0 = clockwise_0.to_numpy()\n",
        "    clockwise_1 = clockwise_1.to_numpy()\n",
        "    clockwise_0_cat = clockwise_0_cat.to_numpy()\n",
        "    clockwise_1_cat = clockwise_1_cat.to_numpy()\n",
        "\n",
        "    clockwise_0_cat/=np.abs(clockwise_0_cat).max()\n",
        "    clockwise_1_cat/=np.abs(clockwise_1_cat).max()\n",
        "    \n",
        "    training_clockwise = []\n",
        "    answer_clockwise = []\n",
        "    amount_to_combine = 100\n",
        "\n",
        "    for i in range (len(clockwise_0)-(amount_to_combine-1)):\n",
        "        training_clockwise.append(clockwise_0_cat[i:i+amount_to_combine])\n",
        "        answer_clockwise.append(clockwise_0[i][-1])\n",
        "\n",
        "\n",
        "    for i in range (len(clockwise_1)-(amount_to_combine-1)):\n",
        "        training_clockwise.append(clockwise_1_cat[i:i+amount_to_combine])\n",
        "        answer_clockwise.append(clockwise_1[i][-1])\n",
        "            \n",
        "    training_array_train.append(training_clockwise)\n",
        "    answer_array_train.append(answer_clockwise)\n",
        "\n",
        "len(training_array_train[0])"
      ],
      "execution_count": 6,
      "outputs": [
        {
          "output_type": "execute_result",
          "data": {
            "text/plain": [
              "5802"
            ]
          },
          "metadata": {
            "tags": []
          },
          "execution_count": 6
        }
      ]
    },
    {
      "cell_type": "code",
      "metadata": {
        "colab": {
          "base_uri": "https://localhost:8080/"
        },
        "id": "YlecYnasLdyj",
        "outputId": "7cd6f1bf-3fae-47f6-f02e-e0b9e8b3c680"
      },
      "source": [
        "training_array_test = []\n",
        "answer_array_test = []\n",
        "\n",
        "for i in francis_list[2], willetts_list[2]:\n",
        "    clockwise_0, clockwise_1 = [x for _,x in i.groupby('isClockwise')]\n",
        "    clockwise_0_cat = clockwise_0.copy()\n",
        "    clockwise_0_cat.drop(['Family'], axis='columns', inplace=True)\n",
        "\n",
        "    clockwise_1_cat = clockwise_1.copy()\n",
        "    clockwise_1_cat.drop(['Family'], axis='columns', inplace=True)\n",
        "\n",
        "    clockwise_0 = clockwise_0.to_numpy()\n",
        "    clockwise_1 = clockwise_1.to_numpy()\n",
        "    clockwise_0_cat = clockwise_0_cat.to_numpy()\n",
        "    clockwise_1_cat = clockwise_1_cat.to_numpy()\n",
        "\n",
        "    clockwise_0_cat/=np.abs(clockwise_0_cat).max()\n",
        "    clockwise_1_cat/=np.abs(clockwise_1_cat).max()\n",
        "    \n",
        "    training_clockwise = []\n",
        "    answer_clockwise = []\n",
        "    amount_to_combine = 100\n",
        "\n",
        "    for i in range (len(clockwise_0)-(amount_to_combine-1)):\n",
        "        training_clockwise.append(clockwise_0_cat[i:i+amount_to_combine])\n",
        "        answer_clockwise.append(clockwise_0[i][-1])\n",
        "\n",
        "\n",
        "    for i in range (len(clockwise_1)-(amount_to_combine-1)):\n",
        "        training_clockwise.append(clockwise_1_cat[i:i+amount_to_combine])\n",
        "        answer_clockwise.append(clockwise_1[i][-1])\n",
        "            \n",
        "    training_array_test.append(training_clockwise)\n",
        "    answer_array_test.append(answer_clockwise)\n",
        "\n",
        "len(training_array_train[0])"
      ],
      "execution_count": 7,
      "outputs": [
        {
          "output_type": "execute_result",
          "data": {
            "text/plain": [
              "5802"
            ]
          },
          "metadata": {
            "tags": []
          },
          "execution_count": 7
        }
      ]
    },
    {
      "cell_type": "code",
      "metadata": {
        "id": "OTf_uGXc3yY3"
      },
      "source": [
        "training_array_train = np.array(training_array_train)\n",
        "answer_array_train = np.array(answer_array_train)\n",
        "\n",
        "training_array_test = np.array(training_array_test)\n",
        "answer_array_test = np.array(answer_array_test)"
      ],
      "execution_count": 8,
      "outputs": []
    },
    {
      "cell_type": "code",
      "metadata": {
        "colab": {
          "base_uri": "https://localhost:8080/"
        },
        "id": "Vdl8Kw1a3yY3",
        "outputId": "a1fa7934-f06d-4d67-8d4f-bd2d97cf4a7b"
      },
      "source": [
        "Y_train = []\n",
        "for i in range(len(answer_array_train)):\n",
        "    class_list = []\n",
        "    classifier = answer_array_train[i]\n",
        "    print(i)\n",
        "    Y_train.append(answer_array_train[i])\n",
        "Y_train = np.concatenate(Y_train,axis=0)\n",
        "Y_train.astype(int)\n",
        "\n",
        "Y_test = []\n",
        "for i in range(len(answer_array_test)):\n",
        "    class_list = []\n",
        "    classifier = answer_array_test[i]\n",
        "    print(i)\n",
        "    Y_test.append(answer_array_test[i])\n",
        "Y_test = np.concatenate(Y_test,axis=0)\n",
        "Y_test.astype(int)"
      ],
      "execution_count": 9,
      "outputs": [
        {
          "output_type": "stream",
          "text": [
            "0\n",
            "1\n",
            "2\n",
            "3\n",
            "4\n",
            "5\n",
            "0\n",
            "1\n"
          ],
          "name": "stdout"
        },
        {
          "output_type": "execute_result",
          "data": {
            "text/plain": [
              "array([0, 0, 0, ..., 1, 1, 1])"
            ]
          },
          "metadata": {
            "tags": []
          },
          "execution_count": 9
        }
      ]
    },
    {
      "cell_type": "code",
      "metadata": {
        "colab": {
          "base_uri": "https://localhost:8080/"
        },
        "id": "d_nVzvd83yY3",
        "outputId": "cb132fc7-bde9-4e03-ef18-b2a935d75a46"
      },
      "source": [
        "X_train = []\n",
        "for i in range(len(training_array_train)):\n",
        "    movement = training_array_train[i]\n",
        "    X_train.append(movement)\n",
        "X_train = np.concatenate(X_train,axis=0)\n",
        "X_train.shape\n",
        "\n",
        "X_test = []\n",
        "for i in range(len(training_array_test)):\n",
        "    movement = training_array_test[i]\n",
        "    X_test.append(movement)\n",
        "X_test = np.concatenate(X_test,axis=0)\n",
        "X_test.shape"
      ],
      "execution_count": 12,
      "outputs": [
        {
          "output_type": "execute_result",
          "data": {
            "text/plain": [
              "(11604, 100, 22)"
            ]
          },
          "metadata": {
            "tags": []
          },
          "execution_count": 12
        }
      ]
    },
    {
      "cell_type": "code",
      "metadata": {
        "id": "0IEkVTkGLgc5"
      },
      "source": [
        "X = np.concatenate((X_train,X_test), axis=0)\n",
        "Y = np.concatenate((Y_train,Y_test), axis=0)\n",
        "X.shape\n",
        "validation_split = X_test.shape[0]/(X_train.shape[0]+X_test.shape[0])"
      ],
      "execution_count": 13,
      "outputs": []
    },
    {
      "cell_type": "code",
      "metadata": {
        "id": "lg5d4u4Tu474"
      },
      "source": [
        "X_train, X_test, Y_train, Y_test = train_test_split(X,Y,test_size=0.3,random_state=7)"
      ],
      "execution_count": 14,
      "outputs": []
    },
    {
      "cell_type": "code",
      "metadata": {
        "colab": {
          "base_uri": "https://localhost:8080/",
          "height": 930
        },
        "id": "Z7aTAIjF3yY3",
        "outputId": "13a28da6-a495-4341-f47d-7dd44df60751"
      },
      "source": [
        "#with tf.device(\"GPU:0\"):\n",
        "model = keras.Sequential()\n",
        "model.add(keras.layers.Conv1D(32, kernel_size = 5, activation = 'relu', input_shape=(100,22)))\n",
        "model.add(keras.layers.LSTM(32, return_sequences=True)),\n",
        "model.add(keras.layers.LSTM(128, return_sequences=True)),\n",
        "model.add(keras.layers.LSTM(256, return_sequences=True)),\n",
        "model.add(keras.layers.LSTM(512, return_sequences=True)),\n",
        "model.add(keras.layers.Flatten())\n",
        "model.add(keras.layers.Dense(32)),\n",
        "#model.add(keras.layers.Dropout(0.2)),\n",
        "model.add(keras.layers.Dense(1, activation='sigmoid'))\n",
        "# Compile model\n",
        "opt = keras.optimizers.Adam(learning_rate=0.01)\n",
        "model.compile(loss='binary_crossentropy', optimizer=opt, metrics=['accuracy'])\n",
        "# print(model)\n",
        "# Fit the model\n",
        "history = model.fit(X, Y, validation_split=validation_split, epochs=10, batch_size=100, verbose=2)\n",
        "# list all data in history\n",
        "\n",
        "print(history.history.keys())\n",
        "# summarize history for accuracy\n",
        "plt.plot(history.history['accuracy'])\n",
        "plt.plot(history.history['val_accuracy'])\n",
        "plt.title('model accuracy')\n",
        "plt.ylabel('accuracy')\n",
        "plt.ylim(0,1.1)\n",
        "plt.xlabel('epoch')\n",
        "plt.legend(['train', 'test'], loc='upper left')\n",
        "plt.show()\n",
        "# summarize history for loss\n",
        "plt.plot(history.history['loss'])\n",
        "plt.plot(history.history['val_loss'])\n",
        "plt.title('model loss')\n",
        "plt.ylabel('loss')\n",
        "plt.xlabel('epoch')\n",
        "plt.legend(['train', 'test'], loc='upper left')\n",
        "plt.show()\n"
      ],
      "execution_count": 15,
      "outputs": [
        {
          "output_type": "stream",
          "text": [
            "Epoch 1/10\n",
            "349/349 - 33s - loss: 16.0468 - accuracy: 0.5186 - val_loss: 0.7522 - val_accuracy: 0.5000\n",
            "Epoch 2/10\n",
            "349/349 - 21s - loss: 0.6976 - accuracy: 0.5100 - val_loss: 0.6952 - val_accuracy: 0.5000\n",
            "Epoch 3/10\n",
            "349/349 - 21s - loss: 0.6918 - accuracy: 0.5224 - val_loss: 0.6971 - val_accuracy: 0.2676\n",
            "Epoch 4/10\n",
            "349/349 - 22s - loss: 0.6934 - accuracy: 0.5331 - val_loss: 0.6944 - val_accuracy: 0.5000\n",
            "Epoch 5/10\n",
            "349/349 - 22s - loss: 0.7522 - accuracy: 0.5305 - val_loss: 0.6976 - val_accuracy: 0.5000\n",
            "Epoch 6/10\n",
            "349/349 - 23s - loss: 0.6765 - accuracy: 0.5602 - val_loss: 0.8118 - val_accuracy: 0.4747\n",
            "Epoch 7/10\n",
            "349/349 - 23s - loss: 0.2135 - accuracy: 0.9022 - val_loss: 1.0175 - val_accuracy: 0.7335\n",
            "Epoch 8/10\n",
            "349/349 - 23s - loss: 0.0284 - accuracy: 0.9903 - val_loss: 1.2124 - val_accuracy: 0.8129\n",
            "Epoch 9/10\n",
            "349/349 - 23s - loss: 0.0083 - accuracy: 0.9970 - val_loss: 1.9035 - val_accuracy: 0.7907\n",
            "Epoch 10/10\n",
            "349/349 - 22s - loss: 2.6969 - accuracy: 0.7390 - val_loss: 0.6936 - val_accuracy: 0.5000\n",
            "dict_keys(['loss', 'accuracy', 'val_loss', 'val_accuracy'])\n"
          ],
          "name": "stdout"
        },
        {
          "output_type": "display_data",
          "data": {
            "image/png": "[encoded data removed]",
            "text/plain": [
              "<Figure size 432x288 with 1 Axes>"
            ]
          },
          "metadata": {
            "tags": [],
            "needs_background": "light"
          }
        },
        {
          "output_type": "display_data",
          "data": {
            "image/png": "[encoded data removed]",
            "text/plain": [
              "<Figure size 432x288 with 1 Axes>"
            ]
          },
          "metadata": {
            "tags": [],
            "needs_background": "light"
          }
        }
      ]
    },
    {
      "cell_type": "code",
      "metadata": {
        "colab": {
          "base_uri": "https://localhost:8080/"
        },
        "id": "YEpTcIVYTUbm",
        "outputId": "831d2b39-b1be-4786-c1d3-17b00c6799f7"
      },
      "source": [
        "model = keras.Sequential()\n",
        "model.add(keras.layers.Conv1D(32, kernel_size = 5, activation = 'relu', input_shape=(100,22)))\n",
        "model.add(keras.layers.LSTM(32, return_sequences=True)),\n",
        "model.add(keras.layers.LSTM(128, return_sequences=True)),\n",
        "model.add(keras.layers.LSTM(256, return_sequences=True)),\n",
        "model.add(keras.layers.LSTM(512, return_sequences=True)),\n",
        "model.add(keras.layers.Flatten())\n",
        "model.add(keras.layers.Dense(32)),\n",
        "#model.add(keras.layers.Dropout(0.2)),\n",
        "model.add(keras.layers.Dense(1, activation='sigmoid'))\n",
        "# Compile model\n",
        "opt = keras.optimizers.Adam(learning_rate=0.01)\n",
        "model.compile(loss='binary_crossentropy', optimizer=opt, metrics=['accuracy'])\n",
        "# print(model)\n",
        "# Fit the model\n",
        "history = model.fit(X, Y, validation_split=validation_split, epochs=5, batch_size=100, verbose=2)"
      ],
      "execution_count": 16,
      "outputs": [
        {
          "output_type": "stream",
          "text": [
            "Epoch 1/5\n",
            "349/349 - 28s - loss: 3.1858 - accuracy: 0.5292 - val_loss: 0.8082 - val_accuracy: 0.4863\n",
            "Epoch 2/5\n",
            "349/349 - 23s - loss: 0.4537 - accuracy: 0.7739 - val_loss: 4.8902 - val_accuracy: 0.4988\n",
            "Epoch 3/5\n",
            "349/349 - 23s - loss: 0.0978 - accuracy: 0.9602 - val_loss: 4.2488 - val_accuracy: 0.5565\n",
            "Epoch 4/5\n",
            "349/349 - 23s - loss: 0.0245 - accuracy: 0.9914 - val_loss: 1.7510 - val_accuracy: 0.7644\n",
            "Epoch 5/5\n",
            "349/349 - 23s - loss: 0.1051 - accuracy: 0.9718 - val_loss: 3.3190 - val_accuracy: 0.6179\n"
          ],
          "name": "stdout"
        }
      ]
    },
    {
      "cell_type": "code",
      "metadata": {
        "colab": {
          "base_uri": "https://localhost:8080/",
          "height": 573
        },
        "id": "QuxycEllt4P5",
        "outputId": "a82d5d26-6631-48e3-89d8-57ecb5ef2f9a"
      },
      "source": [
        "plt.plot(history.history['accuracy'])\n",
        "plt.plot(history.history['val_accuracy'])\n",
        "plt.title('model accuracy')\n",
        "plt.ylabel('accuracy')\n",
        "plt.ylim(0,1.1)\n",
        "plt.xlabel('epoch')\n",
        "plt.legend(['train', 'test'], loc='upper left')\n",
        "plt.show()\n",
        "# summarize history for loss\n",
        "plt.plot(history.history['loss'])\n",
        "plt.plot(history.history['val_loss'])\n",
        "plt.title('model loss')\n",
        "plt.ylabel('loss')\n",
        "plt.xlabel('epoch')\n",
        "plt.legend(['train', 'test'], loc='upper left')\n",
        "plt.show()"
      ],
      "execution_count": 17,
      "outputs": [
        {
          "output_type": "display_data",
          "data": {
            "image/png": "[encoded data removed]",
            "text/plain": [
              "<Figure size 432x288 with 1 Axes>"
            ]
          },
          "metadata": {
            "tags": [],
            "needs_background": "light"
          }
        },
        {
          "output_type": "display_data",
          "data": {
            "image/png": "[encoded data removed]",
            "text/plain": [
              "<Figure size 432x288 with 1 Axes>"
            ]
          },
          "metadata": {
            "tags": [],
            "needs_background": "light"
          }
        }
      ]
    },
    {
      "cell_type": "code",
      "metadata": {
        "colab": {
          "base_uri": "https://localhost:8080/"
        },
        "id": "2d4DEQfSaCaM",
        "outputId": "5b2b7948-520d-4798-ef59-c9f8534622b1"
      },
      "source": [
        "#model.predict(X)\n",
        "model.evaluate(X_test, Y_test, verbose = 2)"
      ],
      "execution_count": 18,
      "outputs": [
        {
          "output_type": "stream",
          "text": [
            "436/436 - 5s - loss: 0.8271 - accuracy: 0.9031\n"
          ],
          "name": "stdout"
        },
        {
          "output_type": "execute_result",
          "data": {
            "text/plain": [
              "[0.8270520567893982, 0.9030520915985107]"
            ]
          },
          "metadata": {
            "tags": []
          },
          "execution_count": 18
        }
      ]
    },
    {
      "cell_type": "code",
      "metadata": {
        "id": "dWBj5n2N_pUF"
      },
      "source": [
        "class LRFinder(Callback):\n",
        "    \n",
        "    '''\n",
        "    A simple callback for finding the optimal learning rate range for your model + dataset. \n",
        "    \n",
        "    # Usage\n",
        "        ```python\n",
        "            lr_finder = LRFinder(min_lr=1e-5, \n",
        "                                 max_lr=1e-2, \n",
        "                                 steps_per_epoch=np.ceil(epoch_size/batch_size), \n",
        "                                 epochs=3)\n",
        "            model.fit(X_train, Y_train, callbacks=[lr_finder])\n",
        "            \n",
        "            lr_finder.plot_loss()\n",
        "        ```\n",
        "    \n",
        "    # Arguments\n",
        "        min_lr: The lower bound of the learning rate range for the experiment.\n",
        "        max_lr: The upper bound of the learning rate range for the experiment.\n",
        "        steps_per_epoch: Number of mini-batches in the dataset. Calculated as `np.ceil(epoch_size/batch_size)`. \n",
        "        epochs: Number of epochs to run experiment. Usually between 2 and 4 epochs is sufficient. \n",
        "        \n",
        "    # References\n",
        "        Blog post: jeremyjordan.me/nn-learning-rate\n",
        "        Original paper: https://arxiv.org/abs/1506.01186\n",
        "    '''\n",
        "    \n",
        "    def __init__(self, min_lr=1e-5, max_lr=1e-2, steps_per_epoch=None, epochs=None):\n",
        "        super().__init__()\n",
        "        \n",
        "        self.min_lr = min_lr\n",
        "        self.max_lr = max_lr\n",
        "        self.total_iterations = steps_per_epoch * epochs\n",
        "        self.iteration = 0\n",
        "        self.history = {}\n",
        "        \n",
        "    def clr(self):\n",
        "        '''Calculate the learning rate.'''\n",
        "        x = self.iteration / self.total_iterations \n",
        "        return self.min_lr + (self.max_lr-self.min_lr) * x\n",
        "        \n",
        "    def on_train_begin(self, logs=None):\n",
        "        '''Initialize the learning rate to the minimum value at the start of training.'''\n",
        "        logs = logs or {}\n",
        "        K.set_value(self.model.optimizer.lr, self.min_lr)\n",
        "        \n",
        "    def on_batch_end(self, epoch, logs=None):\n",
        "        '''Record previous batch statistics and update the learning rate.'''\n",
        "        logs = logs or {}\n",
        "        self.iteration += 1\n",
        "\n",
        "        self.history.setdefault('lr', []).append(K.get_value(self.model.optimizer.lr))\n",
        "        self.history.setdefault('iterations', []).append(self.iteration)\n",
        "\n",
        "        for k, v in logs.items():\n",
        "            self.history.setdefault(k, []).append(v)\n",
        "            \n",
        "        K.set_value(self.model.optimizer.lr, self.clr())\n",
        " \n",
        "    def plot_lr(self):\n",
        "        '''Helper function to quickly inspect the learning rate schedule.'''\n",
        "        plt.plot(self.history['iterations'], self.history['lr'])\n",
        "        plt.yscale('log')\n",
        "        plt.xlabel('Iteration')\n",
        "        plt.ylabel('Learning rate')\n",
        "        plt.show()\n",
        "        \n",
        "    def plot_loss(self):\n",
        "        '''Helper function to quickly observe the learning rate experiment results.'''\n",
        "        plt.plot(self.history['lr'], self.history['loss'])\n",
        "        plt.xscale('log')\n",
        "        plt.xlabel('Learning rate')\n",
        "        plt.ylabel('Loss')\n",
        "        plt.show()"
      ],
      "execution_count": 19,
      "outputs": []
    },
    {
      "cell_type": "code",
      "metadata": {
        "id": "GK8FGKDK_q3s",
        "colab": {
          "base_uri": "https://localhost:8080/",
          "height": 464
        },
        "outputId": "ef913f9f-fdac-4036-9732-d729945eb743"
      },
      "source": [
        "#with tf.device(\"GPU:0\"):\n",
        "model = keras.Sequential()\n",
        "model.add(keras.layers.Conv1D(32, kernel_size = 5, activation = 'relu', input_shape=(100,22)))\n",
        "model.add(keras.layers.LSTM(32, return_sequences=True)),\n",
        "model.add(keras.layers.LSTM(128, return_sequences=True)),\n",
        "model.add(keras.layers.LSTM(256, return_sequences=True)),\n",
        "model.add(keras.layers.LSTM(512, return_sequences=True)),\n",
        "model.add(keras.layers.Flatten())\n",
        "model.add(keras.layers.Dense(32)),\n",
        "#model.add(keras.layers.Dropout(0.2)),\n",
        "model.add(keras.layers.Dense(1, activation='sigmoid'))\n",
        "# Compile model\n",
        "#opt = keras.optimizers.Adam(learning_rate=0.001)\n",
        "model.compile(loss='binary_crossentropy', optimizer='adam', metrics=['accuracy'])\n",
        "epoch_size = 1\n",
        "batch_size = 1\n",
        "lr_finder = LRFinder(min_lr=1e-5, \n",
        "                    max_lr=1e-2, \n",
        "                    steps_per_epoch=np.ceil(epoch_size/batch_size), \n",
        "                    epochs=3)\n",
        "model.fit(X, Y, validation_split=0.33, epochs=5, batch_size=10, verbose=2, callbacks=[lr_finder])\n",
        "            \n",
        "lr_finder.plot_loss()"
      ],
      "execution_count": 20,
      "outputs": [
        {
          "output_type": "stream",
          "text": [
            "Epoch 1/5\n",
            "3110/3110 - 92s - loss: 121692.5469 - accuracy: 0.5042 - val_loss: 357064.4062 - val_accuracy: 0.3788\n",
            "Epoch 2/5\n",
            "3110/3110 - 86s - loss: 863661.0625 - accuracy: 0.5056 - val_loss: 78989.9609 - val_accuracy: 0.3788\n",
            "Epoch 3/5\n",
            "3110/3110 - 86s - loss: 2550038.7500 - accuracy: 0.5034 - val_loss: 18448.7930 - val_accuracy: 0.6212\n",
            "Epoch 4/5\n",
            "3110/3110 - 85s - loss: 5297991.5000 - accuracy: 0.5087 - val_loss: 3858936.5000 - val_accuracy: 0.6212\n",
            "Epoch 5/5\n",
            "3110/3110 - 85s - loss: 4964929.5000 - accuracy: 0.5054 - val_loss: 9281687.0000 - val_accuracy: 0.6212\n"
          ],
          "name": "stdout"
        },
        {
          "output_type": "display_data",
          "data": {
            "image/png": "[encoded data removed]",
            "text/plain": [
              "<Figure size 432x288 with 1 Axes>"
            ]
          },
          "metadata": {
            "tags": [],
            "needs_background": "light"
          }
        }
      ]
    }
  ]
}